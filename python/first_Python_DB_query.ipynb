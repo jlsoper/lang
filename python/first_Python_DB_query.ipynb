{
 "cells": [
  {
   "cell_type": "code",
   "execution_count": 13,
   "metadata": {
    "collapsed": true
   },
   "outputs": [],
   "source": [
    "import cx_Oracle"
   ]
  },
  {
   "cell_type": "code",
   "execution_count": 14,
   "metadata": {
    "collapsed": true
   },
   "outputs": [],
   "source": [
    "db = cx_Oracle.connect(\"foresight/fore123@oraasgtd12-scan.nam.nsroot.net:8888/SFRMPOC\")"
   ]
  },
  {
   "cell_type": "code",
   "execution_count": 15,
   "metadata": {
    "collapsed": true
   },
   "outputs": [],
   "source": [
    "cursor = db.cursor()"
   ]
  },
  {
   "cell_type": "code",
   "execution_count": null,
   "metadata": {
    "collapsed": true
   },
   "outputs": [],
   "source": [
    "cursor.execute(\"select * from revs\")"
   ]
  },
  {
   "cell_type": "code",
   "execution_count": 17,
   "metadata": {
    "collapsed": true
   },
   "outputs": [],
   "source": [
    "rows = cursor.fetchall()"
   ]
  },
  {
   "cell_type": "code",
   "execution_count": 18,
   "metadata": {},
   "outputs": [
    {
     "name": "stdout",
     "output_type": "stream",
     "text": [
      "[(10, 10, '400001', 'Revenues (L1)', '-ALLACT-999991-940000-941000-940011-940046-940053-940012-940031-400001', 'N', 20171010, 'A', datetime.datetime(2017, 8, 30, 0, 0), datetime.datetime(2017, 9, 30, 0, 0), 1, 'ALLACT', '999991', '940000', '941000', '940011', '940046', '940053', '940012', '940031', '400001', None, None, None, None, None, None, None, None, 'All Account', 'Financial', 'After Cost of Capital Earn (ACE) (L1)', 'After Cost of Capital Earn (ACE) (L2)', \"Citigroup's Net Income (Loss) (L1)\", 'Net Income/Loss Before Attribution of Noncontrolling Interest', 'Net Income/Loss from Continuing Operations', 'Income/Loss Before Taxes and Non-Controlling Interest (L2)', 'Operating Margin (L1)', 'Revenues (L1)', None, None, None, None, None, None, None, None), (4, 10, '400001', 'Revenues (L1)', '-ALLACT-999991-940031-400001', 'N', 20170711, 'A', datetime.datetime(2017, 6, 30, 0, 0), datetime.datetime(2017, 7, 30, 0, 0), 1, 'ALLACT', '999991', '940031', '400001', None, None, None, None, None, None, None, None, None, None, None, None, None, None, 'All Account', 'Financial', 'Operating Margin (L1)', 'Revenues (L1)', None, None, None, None, None, None, None, None, None, None, None, None, None, None)]\n"
     ]
    }
   ],
   "source": [
    "print(rows)"
   ]
  }
 ],
 "metadata": {
  "kernelspec": {
   "display_name": "Python 3",
   "language": "python",
   "name": "python3"
  },
  "language_info": {
   "codemirror_mode": {
    "name": "ipython",
    "version": 3
   },
   "file_extension": ".py",
   "mimetype": "text/x-python",
   "name": "python",
   "nbconvert_exporter": "python",
   "pygments_lexer": "ipython3",
   "version": "3.6.3"
  }
 },
 "nbformat": 4,
 "nbformat_minor": 2
}
